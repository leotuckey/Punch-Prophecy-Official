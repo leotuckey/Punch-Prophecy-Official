{
 "cells": [
  {
   "cell_type": "code",
   "execution_count": 3,
   "metadata": {},
   "outputs": [],
   "source": [
    "#needed after restructuring of directory\n",
    "import os\n",
    "os.chdir('C:\\\\Users\\\\Alex\\\\OneDrive\\\\Documents\\\\GitHub\\\\UFC_Prediction_2022')\n",
    "\n",
    "#!/usr/bin/env python\n",
    "# coding: utf-8\n",
    "\n",
    "# In[ ]:\n",
    "\n",
    "import requests\n",
    "from bs4 import BeautifulSoup\n",
    "import pandas as pd\n",
    "import numpy as np\n",
    "import re\n",
    "from datetime import datetime, timedelta\n",
    "pd.set_option('display.max_rows', 500)\n",
    "pd.set_option('display.max_columns', 500)\n",
    "\n",
    "#turning csv files to json files\n",
    "import csv\n",
    "import json\n",
    " \n",
    "# Function to convert a CSV to JSON\n",
    "# Takes the file paths as arguments\n",
    "def make_json(csvFilePath, jsonFilePath, column):\n",
    "     \n",
    "    # create a dictionary\n",
    "    data = {}\n",
    "     \n",
    "    # Open a csv reader called DictReader\n",
    "    with open(csvFilePath, encoding='utf-8') as csvf:\n",
    "        csvReader = csv.DictReader(csvf)\n",
    "         \n",
    "        # Convert each row into a dictionary\n",
    "        # and add it to data\n",
    "        for rows in csvReader:\n",
    "             \n",
    "            # primary key given by column variable\n",
    "            key = rows[column]\n",
    "            data[key] = rows\n",
    " \n",
    "    # Open a json writer, and use the json.dumps()\n",
    "    # function to dump data\n",
    "    with open(jsonFilePath, 'w', encoding='utf-8') as jsonf:\n",
    "        jsonf.write(json.dumps(data, indent=4))\n"
   ]
  },
  {
   "cell_type": "markdown",
   "metadata": {},
   "source": [
    "# Testing "
   ]
  },
  {
   "cell_type": "code",
   "execution_count": 50,
   "metadata": {},
   "outputs": [],
   "source": [
    "def get_next_fight_card():\n",
    "    url = 'http://ufcstats.com/statistics/events/upcoming'\n",
    "    page = requests.get(url)\n",
    "    soup = BeautifulSoup(page.content, \"html.parser\") \n",
    "    mycards = soup.find_all(\"a\", {\"class\": \"b-link b-link_style_black\"})\n",
    "    mydates = soup.find_all(\"span\", {\"class\":\"b-statistics__date\"})\n",
    "    date = mydates[0]\n",
    "    card = mycards[0] \n",
    "    card_date = date.get_text().strip()\n",
    "    card_title = card.get_text().strip()\n",
    "    fights_list = []\n",
    "    card_link = card.attrs['href']\n",
    "    page = requests.get(card_link)\n",
    "    soup = BeautifulSoup(page.content, \"html.parser\")\n",
    "    fights = soup.find_all(\"tr\",{\"class\": \"b-fight-details__table-row b-fight-details__table-row__hover js-fight-details-click\"})\n",
    "    for fight in fights:\n",
    "        fighter, opponent, _, weight_class = [entry.get_text().strip() for entry in fight.find_all('p') if entry.get_text().strip()!= '']\n",
    "        fights_list.append([fighter,opponent,weight_class])\n",
    "    return card_date, card_title, fights_list\n"
   ]
  },
  {
   "cell_type": "code",
   "execution_count": 51,
   "metadata": {},
   "outputs": [],
   "source": [
    "card_date, card_title, fights_list = get_next_fight_card()"
   ]
  },
  {
   "cell_type": "code",
   "execution_count": 52,
   "metadata": {},
   "outputs": [
    {
     "data": {
      "text/plain": [
       "'August 05, 2023'"
      ]
     },
     "execution_count": 52,
     "metadata": {},
     "output_type": "execute_result"
    }
   ],
   "source": [
    "card_date"
   ]
  },
  {
   "cell_type": "code",
   "execution_count": 53,
   "metadata": {},
   "outputs": [
    {
     "data": {
      "text/plain": [
       "'UFC Fight Night: Sandhagen vs. Font'"
      ]
     },
     "execution_count": 53,
     "metadata": {},
     "output_type": "execute_result"
    }
   ],
   "source": [
    "card_title"
   ]
  },
  {
   "cell_type": "code",
   "execution_count": 54,
   "metadata": {},
   "outputs": [
    {
     "data": {
      "text/plain": [
       "[['Cory Sandhagen', 'Rob Font', 'Catch Weight'],\n",
       " ['Jessica Andrade', 'Tatiana Suarez', \"Women's Strawweight\"],\n",
       " ['Dustin Jacoby', 'Kennedy Nzechukwu', 'Light Heavyweight'],\n",
       " ['Diego Lopes', 'Gavin Tucker', 'Featherweight'],\n",
       " ['Tanner Boser', 'Aleksa Camur', 'Light Heavyweight'],\n",
       " ['Ignacio Bahamondes', 'Ludovit Klein', 'Lightweight'],\n",
       " ['Kyler Phillips', 'Raoni Barcelos', 'Bantamweight'],\n",
       " ['Jeremiah Wells', 'Carlston Harris', 'Welterweight'],\n",
       " ['Billy Quarantillo', 'Damon Jackson', 'Featherweight'],\n",
       " ['Cody Durden', 'Jake Hadley', 'Flyweight'],\n",
       " ['Sean Woodson', 'Jesse Butler', 'Featherweight'],\n",
       " ['Ode Osbourne', 'Assu Almabayev', 'Flyweight']]"
      ]
     },
     "execution_count": 54,
     "metadata": {},
     "output_type": "execute_result"
    }
   ],
   "source": [
    "fights_list"
   ]
  },
  {
   "cell_type": "code",
   "execution_count": 36,
   "metadata": {},
   "outputs": [
    {
     "name": "stdout",
     "output_type": "stream",
     "text": [
      "Cory Sandhagen\n",
      "Rob Font\n",
      "View Matchup\n",
      "Catch Weight\n",
      "\n",
      "\n",
      "\n",
      "\n"
     ]
    }
   ],
   "source": [
    "for entry in fight.find_all('p'):\n",
    "    print(entry.get_text().strip())"
   ]
  },
  {
   "cell_type": "code",
   "execution_count": 40,
   "metadata": {},
   "outputs": [],
   "source": [
    "fighter, opponent, _, weight_class = [entry for entry in fight.find_all('p') if entry.get_text().strip()!= '']"
   ]
  },
  {
   "cell_type": "code",
   "execution_count": null,
   "metadata": {},
   "outputs": [],
   "source": [
    "[entry for entry in fight.find_all('p') if entry.get_text().strip()!= '']"
   ]
  },
  {
   "cell_type": "code",
   "execution_count": 38,
   "metadata": {},
   "outputs": [],
   "source": [
    "def get_next_fight_card():\n",
    "    url = 'http://ufcstats.com/statistics/events/upcoming'\n",
    "    page = requests.get(url)\n",
    "    soup = BeautifulSoup(page.content, \"html.parser\") \n",
    "    mycards = soup.find_all(\"a\", {\"class\": \"b-link b-link_style_black\"})\n",
    "    card = mycards[0] # 0 should get the first card on the list. Sometimes it messes up and must be manually changed to 1 for example. should really find a more reliable website to get data from. (stick to http://ufcstats.com/statistics/events/upcoming)\n",
    "    card_date = card.find(\"span\",{\"class\":\"table-header-date\"}).get_text()\n",
    "    card_title = card.find(\"a\",href=lambda x: x and x.startswith('/events')).get_text()\n",
    "    #bookies = [bookie.get_text() for bookie in card.find_all(\"a\",href=lambda x: x and x.startswith('/out'))]\n",
    "    fighter_divs = card.find_all('span',{\"class\":\"t-b-fcc\"})\n",
    "    fighters_list = [fighter.get_text() for fighter in fighter_divs]\n",
    "    print(f'card_title: {card_title} card_date {card_date} len(fighters_list) {len(fighters_list)}')\n",
    "    print(f'fighters_list: {fighters_list}')\n",
    "    if len(fighters_list)%2 == 0 and all(fighters_list[i] == fighters_list[i+len(fighters_list)//2] for i in range(len(fighters_list)//2)): \n",
    "        print('Usual Scraping Structure Detected')\n",
    "    else:\n",
    "        print('Scraping Structure Has Changed... Check HTML at BestFightOdds.com')\n",
    "    fights_list = [fighters_list[i:i+2] for i in range(0,len(fighters_list),2)]\n",
    "    fights_list = fights_list[:len(fights_list)//2]\n",
    "    print(f'Upcoming card {card_title} on {card_date} has {len(fights_list)} fights')\n",
    "    for fight in fights_list:\n",
    "        print(fight)\n",
    "    return card_date, card_title, fights_list\n"
   ]
  },
  {
   "cell_type": "code",
   "execution_count": 39,
   "metadata": {},
   "outputs": [
    {
     "ename": "AttributeError",
     "evalue": "'NoneType' object has no attribute 'get_text'",
     "output_type": "error",
     "traceback": [
      "\u001b[1;31m---------------------------------------------------------------------------\u001b[0m",
      "\u001b[1;31mAttributeError\u001b[0m                            Traceback (most recent call last)",
      "\u001b[1;32m~\\AppData\\Local\\Temp/ipykernel_12632/3063107070.py\u001b[0m in \u001b[0;36m<module>\u001b[1;34m\u001b[0m\n\u001b[1;32m----> 1\u001b[1;33m \u001b[0mcard_date\u001b[0m\u001b[1;33m,\u001b[0m \u001b[0mcard_title\u001b[0m\u001b[1;33m,\u001b[0m \u001b[0mfights_list\u001b[0m \u001b[1;33m=\u001b[0m \u001b[0mget_next_fight_card\u001b[0m\u001b[1;33m(\u001b[0m\u001b[1;33m)\u001b[0m\u001b[1;33m\u001b[0m\u001b[1;33m\u001b[0m\u001b[0m\n\u001b[0m",
      "\u001b[1;32m~\\AppData\\Local\\Temp/ipykernel_12632/368857668.py\u001b[0m in \u001b[0;36mget_next_fight_card\u001b[1;34m()\u001b[0m\n\u001b[0;32m      5\u001b[0m     \u001b[0mmycards\u001b[0m \u001b[1;33m=\u001b[0m \u001b[0msoup\u001b[0m\u001b[1;33m.\u001b[0m\u001b[0mfind_all\u001b[0m\u001b[1;33m(\u001b[0m\u001b[1;34m\"a\"\u001b[0m\u001b[1;33m,\u001b[0m \u001b[1;33m{\u001b[0m\u001b[1;34m\"class\"\u001b[0m\u001b[1;33m:\u001b[0m \u001b[1;34m\"b-link b-link_style_black\"\u001b[0m\u001b[1;33m}\u001b[0m\u001b[1;33m)\u001b[0m\u001b[1;33m\u001b[0m\u001b[1;33m\u001b[0m\u001b[0m\n\u001b[0;32m      6\u001b[0m     \u001b[0mcard\u001b[0m \u001b[1;33m=\u001b[0m \u001b[0mmycards\u001b[0m\u001b[1;33m[\u001b[0m\u001b[1;36m0\u001b[0m\u001b[1;33m]\u001b[0m \u001b[1;31m# 0 should get the first card on the list. Sometimes it messes up and must be manually changed to 1 for example. should really find a more reliable website to get data from. (stick to http://ufcstats.com/statistics/events/upcoming)\u001b[0m\u001b[1;33m\u001b[0m\u001b[1;33m\u001b[0m\u001b[0m\n\u001b[1;32m----> 7\u001b[1;33m     \u001b[0mcard_date\u001b[0m \u001b[1;33m=\u001b[0m \u001b[0mcard\u001b[0m\u001b[1;33m.\u001b[0m\u001b[0mfind\u001b[0m\u001b[1;33m(\u001b[0m\u001b[1;34m\"span\"\u001b[0m\u001b[1;33m,\u001b[0m\u001b[1;33m{\u001b[0m\u001b[1;34m\"class\"\u001b[0m\u001b[1;33m:\u001b[0m\u001b[1;34m\"table-header-date\"\u001b[0m\u001b[1;33m}\u001b[0m\u001b[1;33m)\u001b[0m\u001b[1;33m.\u001b[0m\u001b[0mget_text\u001b[0m\u001b[1;33m(\u001b[0m\u001b[1;33m)\u001b[0m\u001b[1;33m\u001b[0m\u001b[1;33m\u001b[0m\u001b[0m\n\u001b[0m\u001b[0;32m      8\u001b[0m     \u001b[0mcard_title\u001b[0m \u001b[1;33m=\u001b[0m \u001b[0mcard\u001b[0m\u001b[1;33m.\u001b[0m\u001b[0mfind\u001b[0m\u001b[1;33m(\u001b[0m\u001b[1;34m\"a\"\u001b[0m\u001b[1;33m,\u001b[0m\u001b[0mhref\u001b[0m\u001b[1;33m=\u001b[0m\u001b[1;32mlambda\u001b[0m \u001b[0mx\u001b[0m\u001b[1;33m:\u001b[0m \u001b[0mx\u001b[0m \u001b[1;32mand\u001b[0m \u001b[0mx\u001b[0m\u001b[1;33m.\u001b[0m\u001b[0mstartswith\u001b[0m\u001b[1;33m(\u001b[0m\u001b[1;34m'/events'\u001b[0m\u001b[1;33m)\u001b[0m\u001b[1;33m)\u001b[0m\u001b[1;33m.\u001b[0m\u001b[0mget_text\u001b[0m\u001b[1;33m(\u001b[0m\u001b[1;33m)\u001b[0m\u001b[1;33m\u001b[0m\u001b[1;33m\u001b[0m\u001b[0m\n\u001b[0;32m      9\u001b[0m     \u001b[1;31m#bookies = [bookie.get_text() for bookie in card.find_all(\"a\",href=lambda x: x and x.startswith('/out'))]\u001b[0m\u001b[1;33m\u001b[0m\u001b[1;33m\u001b[0m\u001b[0m\n",
      "\u001b[1;31mAttributeError\u001b[0m: 'NoneType' object has no attribute 'get_text'"
     ]
    }
   ],
   "source": [
    "card_date, card_title, fights_list = get_next_fight_card()"
   ]
  },
  {
   "cell_type": "code",
   "execution_count": null,
   "metadata": {},
   "outputs": [],
   "source": []
  }
 ],
 "metadata": {
  "kernelspec": {
   "display_name": "Python 3 (ipykernel)",
   "language": "python",
   "name": "python3"
  },
  "language_info": {
   "codemirror_mode": {
    "name": "ipython",
    "version": 3
   },
   "file_extension": ".py",
   "mimetype": "text/x-python",
   "name": "python",
   "nbconvert_exporter": "python",
   "pygments_lexer": "ipython3",
   "version": "3.9.7"
  }
 },
 "nbformat": 4,
 "nbformat_minor": 2
}
